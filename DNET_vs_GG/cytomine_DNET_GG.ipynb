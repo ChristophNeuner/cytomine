{
 "cells": [
  {
   "cell_type": "markdown",
   "metadata": {},
   "source": [
    "# Imports"
   ]
  },
  {
   "cell_type": "code",
   "execution_count": 14,
   "metadata": {},
   "outputs": [],
   "source": [
    "import os\n",
    "os.environ[\"CUDA_DEVICE_ORDER\"]=\"PCI_BUS_ID\"\n",
    "os.environ[\"CUDA_VISIBLE_DEVICES\"]=\"1\"\n",
    "\n",
    "%reload_ext autoreload\n",
    "%autoreload 2\n",
    "import sys\n",
    "#%matplotlib notebook\n",
    "%matplotlib inline\n",
    "#from bokeh.io import output_notebook\n",
    "\n",
    "from typing import Dict, List, Callable, Tuple, Union, Sequence\n",
    "\n",
    "\n",
    "sys.path.append('../../')\n",
    "sys.path.append('../../wsi_processing_pipeline/')\n",
    "sys.path.append('../../wsi_processing_pipeline/tile_extraction/')\n",
    "import tile_extraction\n",
    "from tile_extraction import tiles, util, slide\n",
    "import wsi_processing_pipeline\n",
    "from wsi_processing_pipeline import shared\n",
    "from wsi_processing_pipeline.shared import roi\n",
    "from wsi_processing_pipeline.cytomine import util_cytomine\n",
    "\n",
    "\n",
    "import os\n",
    "import pandas\n",
    "import pandas as pd\n",
    "import numpy\n",
    "import numpy as np\n",
    "import torch, torchvision\n",
    "import pathlib\n",
    "from pathlib import Path\n",
    "Path.ls = lambda x: [p for p in list(x.iterdir()) if '.ipynb_checkpoints' not in p.name]\n",
    "\n",
    "import PIL\n",
    "from PIL import Image\n",
    "\n",
    "import fastai\n",
    "from fastai import vision\n",
    "from fastai.vision.all import *\n",
    "import matplotlib.pyplot as plt\n",
    "import matplotlib.patches\n",
    "from itertools import groupby\n",
    "from tqdm.notebook import tqdm\n",
    "import cv2\n",
    "import random\n",
    "import scipy.io\n",
    "import json\n",
    "import pickle\n",
    "import math\n",
    "import multiprocessing\n",
    "import openslide\n",
    "import json\n",
    "\n",
    "seed = 19\n",
    "np.random.seed(seed)\n",
    "\n",
    "import cytomine\n",
    "from cytomine import Cytomine\n",
    "from cytomine.models import CurrentUser, Project, ProjectCollection, ImageInstanceCollection, AnnotationCollection\n",
    "from cytomine.models import Annotation, AnnotationTerm\n",
    "from cytomine.models.ontology import Ontology, Term, RelationTerm, TermCollection, OntologyCollection\n",
    "\n",
    "\n",
    "import pathlib\n",
    "from pathlib import Path\n",
    "Path.ls = lambda x: [p for p in list(x.iterdir()) if '.ipynb_checkpoints' not in p.name]\n",
    "from typing import List\n",
    "import shapely\n",
    "from shapely import wkt\n",
    "from shapely.affinity import affine_transform\n",
    "\n",
    "\n",
    "PATH = Path('/home/Deep_Learner/private/datasets/DNTs_vs_GGs/')\n",
    "PATH_DNET = PATH/'DNETs'\n",
    "PATH_DNET_WSIS = PATH_DNET/'wsis'\n",
    "PATH_GANGLIOGLIOMA = PATH/'Ganglioglioma'\n",
    "\n",
    "wsi_paths_dnets = fastai.data.transforms.get_files(path=PATH_DNET_WSIS, extensions=['.ndpi'])\n",
    "wsi_paths_ganglioglioma = fastai.data.transforms.get_files(path=PATH_GANGLIOGLIOMA, extensions=['.ndpi'])\n",
    "wsi_paths = list(wsi_paths_dnets+wsi_paths_ganglioglioma)"
   ]
  },
  {
   "cell_type": "markdown",
   "metadata": {},
   "source": [
    "# connect with cytomine"
   ]
  },
  {
   "cell_type": "code",
   "execution_count": 15,
   "metadata": {},
   "outputs": [],
   "source": [
    "creds_path = Path(\"../credentials.json\")\n",
    "j = json.load(open(creds_path))\n",
    "\n",
    "host = j['host']\n",
    "public_key = j['public_key']\n",
    "private_key = j['private_key']"
   ]
  },
  {
   "cell_type": "code",
   "execution_count": 16,
   "metadata": {},
   "outputs": [
    {
     "name": "stdout",
     "output_type": "stream",
     "text": [
      "[2022-05-18 12:16:43,007][INFO] [GET] [currentuser] CURRENT USER - 58 : admin | 200 OK\n",
      "[2022-05-18 12:16:43,021][INFO] [GET] [currentuser] CURRENT USER - 58 : admin | 200 OK\n",
      "admin\n"
     ]
    }
   ],
   "source": [
    "with Cytomine(host, public_key, private_key) as cytomine_connection:\n",
    "    # We are connected !\n",
    "    me = CurrentUser().fetch()\n",
    "\n",
    "    # It will print your username, that has been retrieved from Cytomine.\n",
    "    print(me.username)"
   ]
  },
  {
   "cell_type": "markdown",
   "metadata": {},
   "source": [
    "# fetch projects and associated images"
   ]
  },
  {
   "cell_type": "code",
   "execution_count": 17,
   "metadata": {},
   "outputs": [
    {
     "name": "stdout",
     "output_type": "stream",
     "text": [
      "[2022-05-18 12:16:43,830][INFO] [GET] [project collection] 2 objects | 200 OK\n"
     ]
    }
   ],
   "source": [
    "projects = ProjectCollection().fetch()"
   ]
  },
  {
   "cell_type": "code",
   "execution_count": 18,
   "metadata": {},
   "outputs": [
    {
     "name": "stdout",
     "output_type": "stream",
     "text": [
      "375\n",
      "397\n"
     ]
    }
   ],
   "source": [
    "project_names = ['DNET', 'Gangliogliom']\n",
    "projects_filtered = []\n",
    "for p in projects:\n",
    "    if(p.name in project_names):\n",
    "        projects_filtered.append(p)\n",
    "        print(p.id)"
   ]
  },
  {
   "cell_type": "code",
   "execution_count": 19,
   "metadata": {},
   "outputs": [
    {
     "name": "stdout",
     "output_type": "stream",
     "text": [
      "[2022-05-18 12:16:45,934][INFO] [GET] [imageinstance collection] 3 objects | 200 OK\n",
      "[2022-05-18 12:16:45,959][INFO] [GET] [imageinstance collection] 3 objects | 200 OK\n"
     ]
    }
   ],
   "source": [
    "images_dict = {}\n",
    "for pn in project_names:\n",
    "    for p in projects_filtered:\n",
    "        if(p.name == pn):\n",
    "            images_dict[pn] = ImageInstanceCollection().fetch_with_filter(\"project\", p.id)"
   ]
  },
  {
   "cell_type": "code",
   "execution_count": 20,
   "metadata": {},
   "outputs": [
    {
     "name": "stdout",
     "output_type": "stream",
     "text": [
      "[2022-05-18 12:16:46,102][INFO] [GET] [imageinstance collection] 3 objects | 200 OK\n",
      "[2022-05-18 12:16:46,121][INFO] [GET] [imageinstance collection] 3 objects | 200 OK\n"
     ]
    }
   ],
   "source": [
    "images_list = []\n",
    "for p in projects_filtered:\n",
    "    for i in ImageInstanceCollection().fetch_with_filter(\"project\", p.id):\n",
    "        images_list.append(i)"
   ]
  },
  {
   "cell_type": "code",
   "execution_count": 21,
   "metadata": {},
   "outputs": [
    {
     "name": "stdout",
     "output_type": "stream",
     "text": [
      "casus12.ndpi\n",
      "casus18.ndpi\n",
      "casus13.ndpi\n",
      "--------------\n",
      "N2-16-II1.ndpi\n",
      "538-90.ndpi\n",
      "casus26.ndpi\n"
     ]
    }
   ],
   "source": [
    "for i in images_dict['DNET']:\n",
    "    print(i.filename)\n",
    "print('--------------')   \n",
    "for i in images_dict['Gangliogliom']:\n",
    "    print(i.filename)"
   ]
  },
  {
   "cell_type": "markdown",
   "metadata": {},
   "source": [
    "# export rois"
   ]
  },
  {
   "cell_type": "code",
   "execution_count": 22,
   "metadata": {},
   "outputs": [],
   "source": [
    "json_paths_dnets = fastai.data.transforms.get_files(path=PATH_DNET, extensions=['.json'])\n",
    "json_paths_ganglioglioma = fastai.data.transforms.get_files(path=PATH_GANGLIOGLIOMA, extensions=['.json'])\n",
    "json_paths = list(json_paths_dnets+json_paths_ganglioglioma)\n",
    "\n",
    "def get_json_path_for_wsi(wsi_path:pathlib.Path, json_paths:List[pathlib.Path])->pathlib.Path:\n",
    "    \"\"\"\n",
    "    Arguments:\n",
    "        wsi_path: path to whole-slide image\n",
    "        json_paths: a list of paths to all json files, which contain the coordinates of region of interests of the\n",
    "                    corresponding wsi\n",
    "    Returns:\n",
    "        Returns path of corresponding json file or raises FileNotFoundError, if json file cannot be found in json_paths\n",
    "    \"\"\"\n",
    "    wsi_name = wsi_path.stem\n",
    "    for jp in json_paths:\n",
    "        if(wsi_name == jp.stem):\n",
    "            return jp\n",
    "    \n",
    "    raise FileNotFoundError(f'json file could not be found for {wsi_path}')\n",
    "\n",
    "        \n",
    "def get_rois_from_wsi_path(wsi_path:pathlib.Path, json_paths:List[pathlib.Path])\\\n",
    "                            ->List[wsi_processing_pipeline.shared.roi.RegionOfInterestPolygon]:\n",
    "    json_path = get_json_path_for_wsi(wsi_path=wsi_path, json_paths=json_paths)\n",
    "    return roi.get_list_of_RegionOfInterestPolygon_from_json(json_path=json_path)\n",
    "\n",
    "wsi_paths_all_without_corresponding_json_file = []\n",
    "wsi_path_to_json_path = {}\n",
    "\n",
    "for wp in wsi_paths:\n",
    "    try:\n",
    "        json_path = get_json_path_for_wsi(wsi_path=wp, json_paths=json_paths)\n",
    "        wsi_path_to_json_path[wp] = json_path\n",
    "        \n",
    "        #if(json_path in duplicates):\n",
    "        #if(json_path in jps):\n",
    "        #    print(wp)\n",
    "        #jps.append(json_path)\n",
    "    except FileNotFoundError:\n",
    "        wsi_paths_all_without_corresponding_json_file.append(wp)\n",
    "\n",
    "wsi_paths_with_json_files = list(wsi_path_to_json_path.keys())\n",
    "\n",
    "wsi_path_to_rois = {}\n",
    "for wp in wsi_paths_with_json_files:\n",
    "    wsi_path_to_rois[wp] = get_rois_from_wsi_path(wsi_path=wp, json_paths=json_paths)"
   ]
  },
  {
   "cell_type": "code",
   "execution_count": 25,
   "metadata": {
    "scrolled": true
   },
   "outputs": [
    {
     "name": "stdout",
     "output_type": "stream",
     "text": [
      "[2022-05-18 12:17:17,850][INFO] [GET] [annotation collection] 1 objects | 200 OK\n",
      "[2022-05-18 12:17:18,196][INFO] [DELETE] [annotation] 15938 | 200 OK\n",
      "casus12.ndpi\n",
      "[2022-05-18 12:17:18,524][INFO] [POST] [annotation] 15951 | 200 OK\n",
      "[2022-05-18 12:17:18,560][INFO] [GET] [ontology collection] 2 objects | 200 OK\n",
      "[2022-05-18 12:17:18,577][INFO] [GET] [term collection] 2 objects | 200 OK\n",
      "[2022-05-18 12:17:18,678][INFO] [POST] [annotationterm] Annotation 15951 - Term 13169 | 200 OK\n",
      "[2022-05-18 12:17:18,796][INFO] [POST] [annotation] 15964 | 200 OK\n",
      "[2022-05-18 12:17:18,825][INFO] [GET] [ontology collection] 2 objects | 200 OK\n",
      "[2022-05-18 12:17:18,842][INFO] [GET] [term collection] 2 objects | 200 OK\n",
      "[2022-05-18 12:17:18,930][INFO] [POST] [annotationterm] Annotation 15964 - Term 13169 | 200 OK\n",
      "[2022-05-18 12:17:19,285][INFO] [POST] [annotation] 15977 | 200 OK\n",
      "[2022-05-18 12:17:19,308][INFO] [GET] [ontology collection] 2 objects | 200 OK\n",
      "[2022-05-18 12:17:19,321][INFO] [GET] [term collection] 2 objects | 200 OK\n",
      "[2022-05-18 12:17:19,411][INFO] [POST] [annotationterm] Annotation 15977 - Term 13169 | 200 OK\n",
      "[2022-05-18 12:17:19,529][INFO] [POST] [annotation] 15990 | 200 OK\n",
      "[2022-05-18 12:17:19,552][INFO] [GET] [ontology collection] 2 objects | 200 OK\n",
      "[2022-05-18 12:17:19,565][INFO] [GET] [term collection] 2 objects | 200 OK\n",
      "[2022-05-18 12:17:19,708][INFO] [POST] [annotationterm] Annotation 15990 - Term 13169 | 200 OK\n",
      "[2022-05-18 12:17:19,827][INFO] [POST] [annotation] 16003 | 200 OK\n",
      "[2022-05-18 12:17:19,851][INFO] [GET] [ontology collection] 2 objects | 200 OK\n",
      "[2022-05-18 12:17:19,865][INFO] [GET] [term collection] 2 objects | 200 OK\n",
      "[2022-05-18 12:17:19,953][INFO] [POST] [annotationterm] Annotation 16003 - Term 13169 | 200 OK\n",
      "[2022-05-18 12:17:20,073][INFO] [POST] [annotation] 16016 | 200 OK\n",
      "[2022-05-18 12:17:20,096][INFO] [GET] [ontology collection] 2 objects | 200 OK\n",
      "[2022-05-18 12:17:20,112][INFO] [GET] [term collection] 2 objects | 200 OK\n",
      "[2022-05-18 12:17:20,204][INFO] [POST] [annotationterm] Annotation 16016 - Term 13169 | 200 OK\n",
      "[2022-05-18 12:17:20,325][INFO] [POST] [annotation] 16029 | 200 OK\n",
      "[2022-05-18 12:17:20,349][INFO] [GET] [ontology collection] 2 objects | 200 OK\n",
      "[2022-05-18 12:17:20,366][INFO] [GET] [term collection] 2 objects | 200 OK\n",
      "[2022-05-18 12:17:20,455][INFO] [POST] [annotationterm] Annotation 16029 - Term 13169 | 200 OK\n",
      "[2022-05-18 12:17:20,474][INFO] [GET] [annotation collection] 5 objects | 200 OK\n",
      "[2022-05-18 12:17:20,708][INFO] [DELETE] [annotation] 15598 | 200 OK\n",
      "[2022-05-18 12:17:20,951][INFO] [DELETE] [annotation] 15585 | 200 OK\n",
      "[2022-05-18 12:17:21,187][INFO] [DELETE] [annotation] 15572 | 200 OK\n",
      "[2022-05-18 12:17:21,425][INFO] [DELETE] [annotation] 15559 | 200 OK\n",
      "[2022-05-18 12:17:21,662][INFO] [DELETE] [annotation] 15546 | 200 OK\n",
      "casus18.ndpi\n",
      "[2022-05-18 12:17:21,972][INFO] [POST] [annotation] 16097 | 200 OK\n",
      "[2022-05-18 12:17:21,994][INFO] [GET] [ontology collection] 2 objects | 200 OK\n",
      "[2022-05-18 12:17:22,011][INFO] [GET] [term collection] 2 objects | 200 OK\n",
      "[2022-05-18 12:17:22,098][INFO] [POST] [annotationterm] Annotation 16097 - Term 13169 | 200 OK\n",
      "[2022-05-18 12:17:22,216][INFO] [POST] [annotation] 16110 | 200 OK\n",
      "[2022-05-18 12:17:22,238][INFO] [GET] [ontology collection] 2 objects | 200 OK\n",
      "[2022-05-18 12:17:22,252][INFO] [GET] [term collection] 2 objects | 200 OK\n",
      "[2022-05-18 12:17:22,337][INFO] [POST] [annotationterm] Annotation 16110 - Term 13169 | 200 OK\n",
      "[2022-05-18 12:17:22,456][INFO] [POST] [annotation] 16123 | 200 OK\n",
      "[2022-05-18 12:17:22,478][INFO] [GET] [ontology collection] 2 objects | 200 OK\n",
      "[2022-05-18 12:17:22,494][INFO] [GET] [term collection] 2 objects | 200 OK\n",
      "[2022-05-18 12:17:22,580][INFO] [POST] [annotationterm] Annotation 16123 - Term 13169 | 200 OK\n",
      "[2022-05-18 12:17:22,698][INFO] [POST] [annotation] 16136 | 200 OK\n",
      "[2022-05-18 12:17:22,723][INFO] [GET] [ontology collection] 2 objects | 200 OK\n",
      "[2022-05-18 12:17:22,737][INFO] [GET] [term collection] 2 objects | 200 OK\n",
      "[2022-05-18 12:17:22,821][INFO] [POST] [annotationterm] Annotation 16136 - Term 13169 | 200 OK\n",
      "[2022-05-18 12:17:22,948][INFO] [POST] [annotation] 16149 | 200 OK\n",
      "[2022-05-18 12:17:22,970][INFO] [GET] [ontology collection] 2 objects | 200 OK\n",
      "[2022-05-18 12:17:22,986][INFO] [GET] [term collection] 2 objects | 200 OK\n",
      "[2022-05-18 12:17:23,072][INFO] [POST] [annotationterm] Annotation 16149 - Term 13169 | 200 OK\n",
      "[2022-05-18 12:17:23,092][INFO] [GET] [annotation collection] 1 objects | 200 OK\n",
      "[2022-05-18 12:17:23,340][INFO] [DELETE] [annotation] 15622 | 200 OK\n",
      "casus13.ndpi\n",
      "[2022-05-18 12:17:23,655][INFO] [POST] [annotation] 16173 | 200 OK\n",
      "[2022-05-18 12:17:23,679][INFO] [GET] [ontology collection] 2 objects | 200 OK\n",
      "[2022-05-18 12:17:23,693][INFO] [GET] [term collection] 2 objects | 200 OK\n",
      "[2022-05-18 12:17:23,775][INFO] [POST] [annotationterm] Annotation 16173 - Term 13169 | 200 OK\n",
      "[2022-05-18 12:17:23,794][INFO] [GET] [annotation collection] 1 objects | 200 OK\n",
      "[2022-05-18 12:17:24,080][INFO] [DELETE] [annotation] 15646 | 200 OK\n",
      "N2-16-II1.ndpi\n",
      "[2022-05-18 12:17:24,448][INFO] [POST] [annotation] 16197 | 200 OK\n",
      "[2022-05-18 12:17:24,468][INFO] [GET] [ontology collection] 2 objects | 200 OK\n",
      "[2022-05-18 12:17:24,480][INFO] [GET] [term collection] 1 objects | 200 OK\n",
      "[2022-05-18 12:17:24,509][INFO] [POST] [annotationterm] Annotation 16197 - Term 13396 | 200 OK\n",
      "[2022-05-18 12:17:24,527][INFO] [GET] [annotation collection] 2 objects | 200 OK\n",
      "[2022-05-18 12:17:24,579][INFO] [DELETE] [annotation] 15694 | 200 OK\n",
      "[2022-05-18 12:17:24,630][INFO] [DELETE] [annotation] 15681 | 200 OK\n",
      "538-90.ndpi\n",
      "[2022-05-18 12:17:24,951][INFO] [POST] [annotation] 16232 | 200 OK\n",
      "[2022-05-18 12:17:24,971][INFO] [GET] [ontology collection] 2 objects | 200 OK\n",
      "[2022-05-18 12:17:24,985][INFO] [GET] [term collection] 1 objects | 200 OK\n",
      "[2022-05-18 12:17:25,014][INFO] [POST] [annotationterm] Annotation 16232 - Term 13396 | 200 OK\n",
      "[2022-05-18 12:17:25,046][INFO] [POST] [annotation] 16245 | 200 OK\n",
      "[2022-05-18 12:17:25,065][INFO] [GET] [ontology collection] 2 objects | 200 OK\n",
      "[2022-05-18 12:17:25,078][INFO] [GET] [term collection] 1 objects | 200 OK\n",
      "[2022-05-18 12:17:25,105][INFO] [POST] [annotationterm] Annotation 16245 - Term 13396 | 200 OK\n",
      "[2022-05-18 12:17:25,121][INFO] [GET] [annotation collection] 1 objects | 200 OK\n",
      "[2022-05-18 12:17:25,169][INFO] [DELETE] [annotation] 15718 | 200 OK\n",
      "casus26.ndpi\n",
      "[2022-05-18 12:17:25,428][INFO] [POST] [annotation] 16269 | 200 OK\n",
      "[2022-05-18 12:17:25,447][INFO] [GET] [ontology collection] 2 objects | 200 OK\n",
      "[2022-05-18 12:17:25,461][INFO] [GET] [term collection] 1 objects | 200 OK\n",
      "[2022-05-18 12:17:25,486][INFO] [POST] [annotationterm] Annotation 16269 - Term 13396 | 200 OK\n"
     ]
    }
   ],
   "source": [
    "for i in images_list:\n",
    "    ##\n",
    "    # delete existing annotations\n",
    "    ##\n",
    "    util_cytomine.delete_all_annotations(image=i)\n",
    "    \n",
    "    ##\n",
    "    # add rois\n",
    "    ##\n",
    "    print(i.filename)\n",
    "    wsi_path = util_cytomine.get_wsi_path_from_cytomine_image_instance(i=i, wsi_paths=wsi_paths)\n",
    "    rois = wsi_path_to_rois[wsi_path]\n",
    "    wsi = openslide.open_slide(str(wsi_path))\n",
    "    project = util_cytomine.get_project_for_image(image=i, projects=projects_filtered)\n",
    "    for r in rois:\n",
    "        poly = r.get_shapely_polygon_adjusted_to_origin_upper_left(wsi_height=wsi.dimensions[1], wsi_height_level=0)\n",
    "        anno = Annotation(location=poly.wkt, id_image=i.id).save()\n",
    "        util_cytomine.add_terms_to_annotation(annotation=anno, terms = r.labels+['roi'], ontology_id=project.ontology)"
   ]
  },
  {
   "cell_type": "markdown",
   "metadata": {},
   "source": [
    "# fetch rois"
   ]
  },
  {
   "cell_type": "code",
   "execution_count": 30,
   "metadata": {
    "scrolled": true
   },
   "outputs": [
    {
     "name": "stdout",
     "output_type": "stream",
     "text": [
      "[2022-05-18 12:18:31,678][INFO] [GET] [annotation collection] 7 objects | 200 OK\n",
      "[2022-05-18 12:18:31,730][INFO] [GET] [annotation] 16029 | 200 OK\n",
      "[2022-05-18 12:18:31,746][INFO] [GET] [project] 375 : DNET | 200 OK\n",
      "[2022-05-18 12:18:31,761][INFO] [GET] [term collection] 2 objects | 200 OK\n",
      "[2022-05-18 12:18:31,779][INFO] [GET] [annotation] 16016 | 200 OK\n",
      "[2022-05-18 12:18:31,791][INFO] [GET] [project] 375 : DNET | 200 OK\n",
      "[2022-05-18 12:18:31,806][INFO] [GET] [term collection] 2 objects | 200 OK\n",
      "[2022-05-18 12:18:31,824][INFO] [GET] [annotation] 16003 | 200 OK\n",
      "[2022-05-18 12:18:31,837][INFO] [GET] [project] 375 : DNET | 200 OK\n",
      "[2022-05-18 12:18:31,852][INFO] [GET] [term collection] 2 objects | 200 OK\n",
      "[2022-05-18 12:18:31,869][INFO] [GET] [annotation] 15990 | 200 OK\n",
      "[2022-05-18 12:18:31,897][INFO] [GET] [project] 375 : DNET | 200 OK\n",
      "[2022-05-18 12:18:31,914][INFO] [GET] [term collection] 2 objects | 200 OK\n",
      "[2022-05-18 12:18:31,932][INFO] [GET] [annotation] 15977 | 200 OK\n",
      "[2022-05-18 12:18:31,943][INFO] [GET] [project] 375 : DNET | 200 OK\n",
      "[2022-05-18 12:18:31,956][INFO] [GET] [term collection] 2 objects | 200 OK\n",
      "[2022-05-18 12:18:31,970][INFO] [GET] [annotation] 15964 | 200 OK\n",
      "[2022-05-18 12:18:31,983][INFO] [GET] [project] 375 : DNET | 200 OK\n",
      "[2022-05-18 12:18:31,997][INFO] [GET] [term collection] 2 objects | 200 OK\n",
      "[2022-05-18 12:18:32,013][INFO] [GET] [annotation] 15951 | 200 OK\n",
      "[2022-05-18 12:18:32,024][INFO] [GET] [project] 375 : DNET | 200 OK\n",
      "[2022-05-18 12:18:32,038][INFO] [GET] [term collection] 2 objects | 200 OK\n"
     ]
    },
    {
     "ename": "NameError",
     "evalue": "name 'image_instance_to_rois' is not defined",
     "output_type": "error",
     "traceback": [
      "\u001b[0;31m---------------------------------------------------------------------------\u001b[0m",
      "\u001b[0;31mNameError\u001b[0m                                 Traceback (most recent call last)",
      "\u001b[0;32m<ipython-input-30-35e8e382afef>\u001b[0m in \u001b[0;36m<module>\u001b[0;34m\u001b[0m\n\u001b[1;32m      3\u001b[0m     \u001b[0mwsi_path\u001b[0m \u001b[0;34m=\u001b[0m \u001b[0mutil_cytomine\u001b[0m\u001b[0;34m.\u001b[0m\u001b[0mget_wsi_path_from_cytomine_image_instance\u001b[0m\u001b[0;34m(\u001b[0m\u001b[0mi\u001b[0m\u001b[0;34m=\u001b[0m\u001b[0mi\u001b[0m\u001b[0;34m,\u001b[0m \u001b[0mwsi_paths\u001b[0m\u001b[0;34m=\u001b[0m\u001b[0mwsi_paths\u001b[0m\u001b[0;34m)\u001b[0m\u001b[0;34m\u001b[0m\u001b[0;34m\u001b[0m\u001b[0m\n\u001b[1;32m      4\u001b[0m     \u001b[0mrois\u001b[0m \u001b[0;34m=\u001b[0m \u001b[0mutil_cytomine\u001b[0m\u001b[0;34m.\u001b[0m\u001b[0mget_image_instance_annotations_as_rois\u001b[0m\u001b[0;34m(\u001b[0m\u001b[0mimage\u001b[0m\u001b[0;34m=\u001b[0m\u001b[0mi\u001b[0m\u001b[0;34m,\u001b[0m \u001b[0mwsi_path\u001b[0m\u001b[0;34m=\u001b[0m\u001b[0mwsi_path\u001b[0m\u001b[0;34m)\u001b[0m\u001b[0;34m\u001b[0m\u001b[0;34m\u001b[0m\u001b[0m\n\u001b[0;32m----> 5\u001b[0;31m     \u001b[0mimage_instance_to_rois\u001b[0m\u001b[0;34m[\u001b[0m\u001b[0mi\u001b[0m\u001b[0;34m.\u001b[0m\u001b[0mid\u001b[0m\u001b[0;34m]\u001b[0m \u001b[0;34m=\u001b[0m \u001b[0mrois\u001b[0m\u001b[0;34m\u001b[0m\u001b[0;34m\u001b[0m\u001b[0m\n\u001b[0m",
      "\u001b[0;31mNameError\u001b[0m: name 'image_instance_to_rois' is not defined"
     ]
    }
   ],
   "source": [
    "image_instance_id_to_rois = {}\n",
    "for i in images_list:\n",
    "    wsi_path = util_cytomine.get_wsi_path_from_cytomine_image_instance(i=i, wsi_paths=wsi_paths)\n",
    "    rois = util_cytomine.get_image_instance_annotations_as_rois(image=i, wsi_path=wsi_path)\n",
    "    image_instance_to_rois[i.id] = rois"
   ]
  },
  {
   "cell_type": "code",
   "execution_count": 31,
   "metadata": {
    "scrolled": true
   },
   "outputs": [
    {
     "ename": "KeyError",
     "evalue": "3016",
     "output_type": "error",
     "traceback": [
      "\u001b[0;31m---------------------------------------------------------------------------\u001b[0m",
      "\u001b[0;31mKeyError\u001b[0m                                  Traceback (most recent call last)",
      "\u001b[0;32m<ipython-input-31-4790b118256e>\u001b[0m in \u001b[0;36m<module>\u001b[0;34m\u001b[0m\n\u001b[1;32m      1\u001b[0m \u001b[0;32mfor\u001b[0m \u001b[0mi\u001b[0m \u001b[0;32min\u001b[0m \u001b[0mimages_list\u001b[0m\u001b[0;34m:\u001b[0m\u001b[0;34m\u001b[0m\u001b[0;34m\u001b[0m\u001b[0m\n\u001b[1;32m      2\u001b[0m     \u001b[0mwsi_path\u001b[0m \u001b[0;34m=\u001b[0m \u001b[0mutil_cytomine\u001b[0m\u001b[0;34m.\u001b[0m\u001b[0mget_wsi_path_from_cytomine_image_instance\u001b[0m\u001b[0;34m(\u001b[0m\u001b[0mi\u001b[0m\u001b[0;34m=\u001b[0m\u001b[0mi\u001b[0m\u001b[0;34m,\u001b[0m \u001b[0mwsi_paths\u001b[0m\u001b[0;34m=\u001b[0m\u001b[0mwsi_paths\u001b[0m\u001b[0;34m)\u001b[0m\u001b[0;34m\u001b[0m\u001b[0;34m\u001b[0m\u001b[0m\n\u001b[0;32m----> 3\u001b[0;31m     \u001b[0mutil\u001b[0m\u001b[0;34m.\u001b[0m\u001b[0mshow_wsi_with_rois\u001b[0m\u001b[0;34m(\u001b[0m\u001b[0mwsi_path\u001b[0m\u001b[0;34m,\u001b[0m \u001b[0mimage_instance_id_to_rois\u001b[0m\u001b[0;34m[\u001b[0m\u001b[0mi\u001b[0m\u001b[0;34m.\u001b[0m\u001b[0mid\u001b[0m\u001b[0;34m]\u001b[0m\u001b[0;34m)\u001b[0m\u001b[0;34m\u001b[0m\u001b[0;34m\u001b[0m\u001b[0m\n\u001b[0m",
      "\u001b[0;31mKeyError\u001b[0m: 3016"
     ]
    }
   ],
   "source": [
    "for i in images_list:\n",
    "    wsi_path = util_cytomine.get_wsi_path_from_cytomine_image_instance(i=i, wsi_paths=wsi_paths)\n",
    "    util.show_wsi_with_rois(wsi_path, image_instance_id_to_rois[i.id])"
   ]
  },
  {
   "cell_type": "markdown",
   "metadata": {},
   "source": [
    "# tilesummaries"
   ]
  },
  {
   "cell_type": "code",
   "execution_count": 102,
   "metadata": {},
   "outputs": [
    {
     "name": "stderr",
     "output_type": "stream",
     "text": [
      "\r",
      "  0%|          | 0/6 [00:00<?, ?it/s]"
     ]
    },
    {
     "name": "stdout",
     "output_type": "stream",
     "text": [
      "347\n",
      "1121\n",
      "1767\n",
      "1876\n",
      "2607\n",
      "3335\n",
      "IndexError in WsiToTiles for the rectangle: (ul: (x:20782.55, y:33966.55), ur: (x:21806.55, y:33966.55), lr: (x:21806.55, y:34990.55), ll: (x:20782.55, y:34990.55))\n"
     ]
    },
    {
     "name": "stderr",
     "output_type": "stream",
     "text": [
      "\r",
      " 17%|█▋        | 1/6 [01:47<08:55, 107.00s/it]"
     ]
    },
    {
     "name": "stdout",
     "output_type": "stream",
     "text": [
      "IndexError in WsiToTiles for the rectangle: (ul: (x:112880.19, y:89027.13), ur: (x:113904.19, y:89027.13), lr: (x:113904.19, y:90051.13), ll: (x:112880.19, y:90051.13))\n",
      "IndexError in WsiToTiles for the rectangle: (ul: (x:106736.19, y:99267.13), ur: (x:107760.19, y:99267.13), lr: (x:107760.19, y:100291.13), ll: (x:106736.19, y:100291.13))\n"
     ]
    },
    {
     "name": "stderr",
     "output_type": "stream",
     "text": [
      " 50%|█████     | 3/6 [04:47<04:52, 97.52s/it] "
     ]
    },
    {
     "name": "stdout",
     "output_type": "stream",
     "text": [
      "IndexError in WsiToTiles for the rectangle: (ul: (x:78217.11, y:24052.81), ur: (x:79241.11, y:24052.81), lr: (x:79241.11, y:25076.81), ll: (x:78217.11, y:25076.81))\n"
     ]
    },
    {
     "name": "stderr",
     "output_type": "stream",
     "text": [
      "\r",
      " 67%|██████▋   | 4/6 [05:38<02:47, 83.54s/it]"
     ]
    },
    {
     "name": "stdout",
     "output_type": "stream",
     "text": [
      "IndexError in WsiToTiles for the rectangle: (ul: (x:102564.45, y:39761.63), ur: (x:103588.45, y:39761.63), lr: (x:103588.45, y:40785.63), ll: (x:102564.45, y:40785.63))\n",
      "IndexError in WsiToTiles for the rectangle: (ul: (x:103588.45, y:45905.63), ur: (x:104612.45, y:45905.63), lr: (x:104612.45, y:46929.63), ll: (x:103588.45, y:46929.63))\n",
      "IndexError in WsiToTiles for the rectangle: (ul: (x:141561.51, y:24015.82), ur: (x:142585.51, y:24015.82), lr: (x:142585.51, y:25039.82), ll: (x:141561.51, y:25039.82))\n",
      "IndexError in WsiToTiles for the rectangle: (ul: (x:129273.51, y:26063.82), ur: (x:130297.51, y:26063.82), lr: (x:130297.51, y:27087.82), ll: (x:129273.51, y:27087.82))\n"
     ]
    },
    {
     "name": "stderr",
     "output_type": "stream",
     "text": [
      "\r",
      " 83%|████████▎ | 5/6 [06:39<01:16, 76.89s/it]"
     ]
    },
    {
     "name": "stdout",
     "output_type": "stream",
     "text": [
      "IndexError in WsiToTiles for the rectangle: (ul: (x:12125.130000000001, y:65213.82), ur: (x:13149.130000000001, y:65213.82), lr: (x:13149.130000000001, y:66237.82), ll: (x:12125.130000000001, y:66237.82))\n"
     ]
    },
    {
     "name": "stderr",
     "output_type": "stream",
     "text": [
      "\r",
      "100%|██████████| 6/6 [06:55<00:00, 58.71s/it]"
     ]
    }
   ],
   "source": [
    "wps = [get_wsi_path_from_cytomine_image_instance(i,wsi_paths) for i in images_list]\n",
    "tilesummaries = tiles.WsisToTilesParallel(wsi_paths=wps,\n",
    "                                          tile_height=1024, \n",
    "                                          tile_width=1024, \n",
    "                                          tile_scoring_function=tiles.score_tile_2,\n",
    "                                          tile_score_thresh=0.2, \n",
    "                                          level=0, \n",
    "                                          wsi_path_to_rois=wsi_path_to_rois,\n",
    "                                          minimal_tile_roi_intersection_ratio=0.9, \n",
    "                                          verbose=False, \n",
    "                                          grids_per_roi=1)"
   ]
  },
  {
   "cell_type": "markdown",
   "metadata": {},
   "source": [
    "# learner and predictions"
   ]
  },
  {
   "cell_type": "code",
   "execution_count": 144,
   "metadata": {},
   "outputs": [],
   "source": [
    "from fastai.learner import *"
   ]
  },
  {
   "cell_type": "code",
   "execution_count": 145,
   "metadata": {},
   "outputs": [],
   "source": [
    "from wsi_processing_pipeline.shared.util_shared import get_x, get_y, split"
   ]
  },
  {
   "cell_type": "code",
   "execution_count": 146,
   "metadata": {},
   "outputs": [
    {
     "data": {
      "text/plain": [
       "Path('/home/Deep_Learner/private/datasets/DNTs_vs_GGs/models/1-resnet50/dnet_vs_gg_resnet-1-resnet50.pkl')"
      ]
     },
     "execution_count": 146,
     "metadata": {},
     "output_type": "execute_result"
    }
   ],
   "source": [
    "exported_learner_path = PATH/Path('models/1-resnet50/dnet_vs_gg_resnet-1-resnet50.pkl'); exported_learner_path"
   ]
  },
  {
   "cell_type": "code",
   "execution_count": 147,
   "metadata": {},
   "outputs": [],
   "source": [
    "learner = load_learner(fname=exported_learner_path)"
   ]
  },
  {
   "cell_type": "code",
   "execution_count": null,
   "metadata": {},
   "outputs": [],
   "source": [
    "for ts in tqdm(tilesummaries):\n",
    "    for t in tqdm(ts.top_tiles()):\n",
    "        t.predictions_fastai_inference = learner.predict(t)"
   ]
  },
  {
   "cell_type": "markdown",
   "metadata": {},
   "source": [
    "# export tiles with predictions to cytomine"
   ]
  },
  {
   "cell_type": "code",
   "execution_count": 207,
   "metadata": {},
   "outputs": [],
   "source": [
    "from wsi_processing_pipeline.cytomine.util_cytomine import get_cytomine_image_instance_for_wsi_name\n",
    "from wsi_processing_pipeline.cytomine.util_cytomine import get_project_for_image                                        "
   ]
  },
  {
   "cell_type": "code",
   "execution_count": 186,
   "metadata": {
    "collapsed": true
   },
   "outputs": [
    {
     "data": {
      "application/vnd.jupyter.widget-view+json": {
       "model_id": "46e3243bc9e04c94a03aa88522053951",
       "version_major": 2,
       "version_minor": 0
      },
      "text/plain": [
       "HBox(children=(FloatProgress(value=0.0, max=6.0), HTML(value='')))"
      ]
     },
     "metadata": {},
     "output_type": "display_data"
    },
    {
     "data": {
      "application/vnd.jupyter.widget-view+json": {
       "model_id": "4bff0c08233e4417810dccf93102ec79",
       "version_major": 2,
       "version_minor": 0
      },
      "text/plain": [
       "HBox(children=(FloatProgress(value=0.0, max=57.0), HTML(value='')))"
      ]
     },
     "metadata": {},
     "output_type": "display_data"
    },
    {
     "name": "stdout",
     "output_type": "stream",
     "text": [
      "\n"
     ]
    },
    {
     "data": {
      "application/vnd.jupyter.widget-view+json": {
       "model_id": "79d4d869f5d741fb86c25995bbf327f8",
       "version_major": 2,
       "version_minor": 0
      },
      "text/plain": [
       "HBox(children=(FloatProgress(value=0.0, max=319.0), HTML(value='')))"
      ]
     },
     "metadata": {},
     "output_type": "display_data"
    },
    {
     "name": "stdout",
     "output_type": "stream",
     "text": [
      "\n"
     ]
    },
    {
     "data": {
      "application/vnd.jupyter.widget-view+json": {
       "model_id": "26afec21b0e5453a9823bf22c718f412",
       "version_major": 2,
       "version_minor": 0
      },
      "text/plain": [
       "HBox(children=(FloatProgress(value=0.0, max=715.0), HTML(value='')))"
      ]
     },
     "metadata": {},
     "output_type": "display_data"
    },
    {
     "name": "stdout",
     "output_type": "stream",
     "text": [
      "\n"
     ]
    },
    {
     "data": {
      "application/vnd.jupyter.widget-view+json": {
       "model_id": "e3e4c3360bf14ae89c9a02bb36eacd02",
       "version_major": 2,
       "version_minor": 0
      },
      "text/plain": [
       "HBox(children=(FloatProgress(value=0.0, max=376.0), HTML(value='')))"
      ]
     },
     "metadata": {},
     "output_type": "display_data"
    },
    {
     "name": "stdout",
     "output_type": "stream",
     "text": [
      "\n"
     ]
    },
    {
     "data": {
      "application/vnd.jupyter.widget-view+json": {
       "model_id": "583f5ee6d293445f9d2cc9477af8c2a3",
       "version_major": 2,
       "version_minor": 0
      },
      "text/plain": [
       "HBox(children=(FloatProgress(value=0.0, max=129.0), HTML(value='')))"
      ]
     },
     "metadata": {},
     "output_type": "display_data"
    },
    {
     "name": "stdout",
     "output_type": "stream",
     "text": [
      "\n"
     ]
    },
    {
     "data": {
      "application/vnd.jupyter.widget-view+json": {
       "model_id": "abe757a21e7a45609ceffb73322665dc",
       "version_major": 2,
       "version_minor": 0
      },
      "text/plain": [
       "HBox(children=(FloatProgress(value=0.0, max=712.0), HTML(value='')))"
      ]
     },
     "metadata": {},
     "output_type": "display_data"
    },
    {
     "name": "stdout",
     "output_type": "stream",
     "text": [
      "\n",
      "\n"
     ]
    }
   ],
   "source": [
    "for ts in tqdm(tilesummaries):\n",
    "    image = get_cytomine_image_instance_for_wsi_name(image_instances=images_list,wsi_name=ts.wsi_path.name)\n",
    "    \n",
    "    ###\n",
    "    # delete all already existing tile annotations\n",
    "    ###\n",
    "    annotations = AnnotationCollection()\n",
    "    annotations.image = image.id\n",
    "    annotations.fetch()\n",
    "    for a in annotations:\n",
    "        if()\n",
    "            a.delete()\n",
    "    \n",
    "    for t in tqdm(ts.top_tiles()):\n",
    "        pass"
   ]
  },
  {
   "cell_type": "code",
   "execution_count": null,
   "metadata": {},
   "outputs": [],
   "source": []
  },
  {
   "cell_type": "code",
   "execution_count": 177,
   "metadata": {},
   "outputs": [
    {
     "data": {
      "text/html": [
       "\n",
       "<style>\n",
       "    /* Turns off some styling */\n",
       "    progress {\n",
       "        /* gets rid of default border in Firefox and Opera. */\n",
       "        border: none;\n",
       "        /* Needs to be in here for Safari polyfill so background images work as expected. */\n",
       "        background-size: auto;\n",
       "    }\n",
       "    .progress-bar-interrupted, .progress-bar-interrupted::-webkit-progress-bar {\n",
       "        background: #F44336;\n",
       "    }\n",
       "</style>\n"
      ],
      "text/plain": [
       "<IPython.core.display.HTML object>"
      ]
     },
     "metadata": {},
     "output_type": "display_data"
    },
    {
     "data": {
      "text/html": [],
      "text/plain": [
       "<IPython.core.display.HTML object>"
      ]
     },
     "metadata": {},
     "output_type": "display_data"
    },
    {
     "data": {
      "text/plain": [
       "((#1) ['Ganglioglioma'], tensor([False,  True]), tensor([0.0013, 0.9987]))"
      ]
     },
     "execution_count": 177,
     "metadata": {},
     "output_type": "execute_result"
    }
   ],
   "source": [
    "ts = tilesummaries[0]\n",
    "t = ts.top_tiles()[0]\n",
    "t_pil = t.get_pil_image()\n",
    "t_preds = learner.predict(t)\n",
    "t_preds"
   ]
  },
  {
   "cell_type": "code",
   "execution_count": null,
   "metadata": {},
   "outputs": [],
   "source": []
  }
 ],
 "metadata": {
  "kernelspec": {
   "display_name": "DLM Py3",
   "language": "python",
   "name": "dlm_py3"
  },
  "language_info": {
   "codemirror_mode": {
    "name": "ipython",
    "version": 3
   },
   "file_extension": ".py",
   "mimetype": "text/x-python",
   "name": "python",
   "nbconvert_exporter": "python",
   "pygments_lexer": "ipython3",
   "version": "3.7.6"
  },
  "toc": {
   "base_numbering": 1,
   "nav_menu": {},
   "number_sections": true,
   "sideBar": true,
   "skip_h1_title": false,
   "title_cell": "Table of Contents",
   "title_sidebar": "Contents",
   "toc_cell": false,
   "toc_position": {
    "height": "calc(100% - 180px)",
    "left": "10px",
    "top": "150px",
    "width": "384px"
   },
   "toc_section_display": true,
   "toc_window_display": true
  }
 },
 "nbformat": 4,
 "nbformat_minor": 4
}
