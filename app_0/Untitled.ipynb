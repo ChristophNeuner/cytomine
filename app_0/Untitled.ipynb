{
 "cells": [
  {
   "cell_type": "markdown",
   "metadata": {},
   "source": [
    "# imports"
   ]
  },
  {
   "cell_type": "code",
   "execution_count": 6,
   "metadata": {},
   "outputs": [],
   "source": [
    "import os\n",
    "os.environ[\"CUDA_DEVICE_ORDER\"]=\"PCI_BUS_ID\"\n",
    "os.environ[\"CUDA_VISIBLE_DEVICES\"]=\"1\"\n",
    "\n",
    "%reload_ext autoreload\n",
    "%autoreload 2\n",
    "import sys\n",
    "#%matplotlib notebook\n",
    "%matplotlib inline\n",
    "#from bokeh.io import output_notebook\n",
    "\n",
    "from typing import Dict, List, Callable, Tuple, Union, Sequence\n",
    "\n",
    "sys.path.append('../../')\n",
    "sys.path.append('../../wsi_processing_pipeline/')\n",
    "sys.path.append('../../wsi_processing_pipeline/tile_extraction/')\n",
    "\n",
    "import wsi_processing_pipeline\n",
    "from wsi_processing_pipeline import shared\n",
    "from wsi_processing_pipeline.shared import roi\n",
    "import tile_extraction\n",
    "from tile_extraction import tiles, util, slide\n",
    "\n",
    "\n",
    "\n",
    "import os\n",
    "import pandas\n",
    "import pandas as pd\n",
    "import numpy\n",
    "import numpy as np\n",
    "import torch, torchvision\n",
    "import pathlib\n",
    "from pathlib import Path\n",
    "Path.ls = lambda x: [p for p in list(x.iterdir()) if '.ipynb_checkpoints' not in p.name]\n",
    "\n",
    "import PIL\n",
    "from PIL import Image\n",
    "\n",
    "import fastai\n",
    "from fastai import vision\n",
    "import matplotlib.pyplot as plt\n",
    "import matplotlib.patches\n",
    "from itertools import groupby\n",
    "from tqdm.notebook import tqdm\n",
    "import cv2\n",
    "import random\n",
    "import scipy.io\n",
    "import json\n",
    "import pickle\n",
    "import math\n",
    "import multiprocessing\n",
    "\n",
    "seed = 19\n",
    "np.random.seed(seed)\n",
    "\n",
    "import cytomine\n",
    "from cytomine import Cytomine\n",
    "from cytomine.models import CurrentUser, Project, ProjectCollection, ImageInstanceCollection, AnnotationCollection\n",
    "from cytomine.models import Annotation, AnnotationTerm\n",
    "\n",
    "\n",
    "import pathlib\n",
    "from pathlib import Path\n",
    "Path.ls = lambda x: [p for p in list(x.iterdir()) if '.ipynb_checkpoints' not in p.name]\n",
    "from typing import List\n",
    "import shapely\n",
    "from shapely import wkt\n",
    "from shapely.affinity import affine_transform\n",
    "\n",
    "\n",
    "WSI_BASE_PATH = Path(f'./wsi')\n",
    "WSI_MUSCLE_PATH = WSI_BASE_PATH/'muscles'"
   ]
  },
  {
   "cell_type": "code",
   "execution_count": 7,
   "metadata": {},
   "outputs": [],
   "source": [
    "#TODO read from private file\n",
    "host = \n",
    "public_key = \n",
    "private_key = \n",
    "from cytomine import Cytomine\n",
    "from cytomine.utilities.descriptor_reader import read_descriptor"
   ]
  },
  {
   "cell_type": "code",
   "execution_count": 8,
   "metadata": {},
   "outputs": [
    {
     "name": "stdout",
     "output_type": "stream",
     "text": [
      "[2022-05-11 14:25:23,389][INFO] [GET] [currentuser] CURRENT USER - 61 : admin | 200 OK\n",
      "{'name': 'cytomine_app_0', 'description': 'This Cytomine App is a first test.', 'schema-version': 'cytomine-0.1', 'inputs': [{'id': 'cytomine_host', 'name': 'Cytomine host', 'set-by-server': True, 'optional': False, 'type': 'String'}, {'id': 'cytomine_public_key', 'name': 'Cytomine public key', 'set-by-server': True, 'optional': False, 'type': 'String'}, {'id': 'cytomine_private_key', 'name': 'Cytomine private key', 'set-by-server': True, 'optional': False, 'type': 'String'}, {'id': 'cytomine_id_project', 'name': 'Cytomine project ID', 'set-by-server': True, 'optional': False, 'type': 'Number'}, {'id': 'cytomine_id_software', 'name': 'Cytomine software ID', 'set-by-server': True, 'optional': False, 'type': 'Number'}]}\n",
      "[2022-05-11 14:25:23,455][INFO] [GET] [software collection] 7 objects | 200 OK\n",
      "[2022-05-11 14:25:23,846][INFO] [POST] [software] 1427 : cytomine_app_0 | 200 OK\n",
      "[2022-05-11 14:25:23,895][INFO] [GET] [parameter collection] 0 objects | 200 OK\n",
      "[2022-05-11 14:25:23,965][INFO] [POST] [softwareparameter] 1433 : cytomine_host | 200 OK\n",
      "[2022-05-11 14:25:24,005][INFO] [POST] [softwareparameter] 1439 : cytomine_public_key | 200 OK\n",
      "[2022-05-11 14:25:24,044][INFO] [POST] [softwareparameter] 1445 : cytomine_private_key | 200 OK\n",
      "[2022-05-11 14:25:24,083][INFO] [POST] [softwareparameter] 1451 : cytomine_id_project | 200 OK\n",
      "[2022-05-11 14:25:24,114][INFO] [POST] [softwareparameter] 1457 : cytomine_id_software | 200 OK\n"
     ]
    }
   ],
   "source": [
    "with Cytomine(host, public_key, private_key) as c:\n",
    "\tread_descriptor(\"descriptor.json\")"
   ]
  },
  {
   "cell_type": "code",
   "execution_count": null,
   "metadata": {},
   "outputs": [],
   "source": []
  }
 ],
 "metadata": {
  "kernelspec": {
   "display_name": "DLM Py3",
   "language": "python",
   "name": "dlm_py3"
  },
  "language_info": {
   "codemirror_mode": {
    "name": "ipython",
    "version": 3
   },
   "file_extension": ".py",
   "mimetype": "text/x-python",
   "name": "python",
   "nbconvert_exporter": "python",
   "pygments_lexer": "ipython3",
   "version": "3.7.6"
  },
  "toc": {
   "base_numbering": 1,
   "nav_menu": {},
   "number_sections": true,
   "sideBar": true,
   "skip_h1_title": false,
   "title_cell": "Table of Contents",
   "title_sidebar": "Contents",
   "toc_cell": false,
   "toc_position": {},
   "toc_section_display": true,
   "toc_window_display": false
  }
 },
 "nbformat": 4,
 "nbformat_minor": 4
}
